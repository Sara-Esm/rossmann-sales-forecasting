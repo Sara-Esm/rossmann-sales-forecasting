{
  "nbformat": 4,
  "nbformat_minor": 0,
  "metadata": {
    "colab": {
      "provenance": [],
      "authorship_tag": "ABX9TyOWudZq1gUfmOtWP4RjH50z",
      "include_colab_link": true
    },
    "kernelspec": {
      "name": "python3",
      "display_name": "Python 3"
    },
    "language_info": {
      "name": "python"
    }
  },
  "cells": [
    {
      "cell_type": "markdown",
      "metadata": {
        "id": "view-in-github",
        "colab_type": "text"
      },
      "source": [
        "<a href=\"https://colab.research.google.com/github/Sara-Esm/rossmann-sales-forecasting/blob/main/Rossmann_Sales_Forecasting.ipynb\" target=\"_parent\"><img src=\"https://colab.research.google.com/assets/colab-badge.svg\" alt=\"Open In Colab\"/></a>"
      ]
    },
    {
      "cell_type": "markdown",
      "source": [
        "# Rossmann Store Sales Forecasting\n",
        "\n",
        "## 🔍 Objective\n",
        "Forecast daily sales for Rossmann stores using historical data, promotions, store metadata, and time-series features.\n",
        "\n",
        "## 📦 Dataset Overview\n",
        "- `train.csv`: Historical sales\n",
        "- `store.csv`: Store-related metadata\n",
        "- Source: [Kaggle Rossmann Sales Forecasting Competition](https://www.kaggle.com/competitions/rossmann-store-sales)\n",
        "\n",
        "## 🔧 Tools & Techniques\n",
        "- XGBoost Regressor\n",
        "- Feature Engineering (Time, Promo, Competition, Lag)\n",
        "- Log Transform + MAPE Evaluation\n"
      ],
      "metadata": {
        "id": "entb80z0FVzv"
      }
    },
    {
      "cell_type": "code",
      "source": [
        "#1 Setup Kaggle API and Download Dataset\n",
        "\n",
        "# Upload kaggle.json\n",
        "from google.colab import files\n",
        "files.upload()\n",
        "\n",
        "# Set up Kaggle API\n",
        "!mkdir -p ~/.kaggle\n",
        "!mv kaggle.json ~/.kaggle/\n",
        "!chmod 600 ~/.kaggle/kaggle.json\n",
        "\n",
        "# Download Rossmann dataset\n",
        "!kaggle competitions download -c rossmann-store-sales --force\n",
        "\n",
        "# Unzip\n",
        "!unzip -o rossmann-store-sales.zip -d rossmann_data"
      ],
      "metadata": {
        "colab": {
          "base_uri": "https://localhost:8080/",
          "height": 212
        },
        "id": "1CITXwoyL8jg",
        "outputId": "ea2bbdb3-5fde-423e-bc9c-a84924dcfbc2"
      },
      "execution_count": 1,
      "outputs": [
        {
          "output_type": "display_data",
          "data": {
            "text/plain": [
              "<IPython.core.display.HTML object>"
            ],
            "text/html": [
              "\n",
              "     <input type=\"file\" id=\"files-5edfc857-e63f-4a97-bfb7-d9f5f4400ad3\" name=\"files[]\" multiple disabled\n",
              "        style=\"border:none\" />\n",
              "     <output id=\"result-5edfc857-e63f-4a97-bfb7-d9f5f4400ad3\">\n",
              "      Upload widget is only available when the cell has been executed in the\n",
              "      current browser session. Please rerun this cell to enable.\n",
              "      </output>\n",
              "      <script>// Copyright 2017 Google LLC\n",
              "//\n",
              "// Licensed under the Apache License, Version 2.0 (the \"License\");\n",
              "// you may not use this file except in compliance with the License.\n",
              "// You may obtain a copy of the License at\n",
              "//\n",
              "//      http://www.apache.org/licenses/LICENSE-2.0\n",
              "//\n",
              "// Unless required by applicable law or agreed to in writing, software\n",
              "// distributed under the License is distributed on an \"AS IS\" BASIS,\n",
              "// WITHOUT WARRANTIES OR CONDITIONS OF ANY KIND, either express or implied.\n",
              "// See the License for the specific language governing permissions and\n",
              "// limitations under the License.\n",
              "\n",
              "/**\n",
              " * @fileoverview Helpers for google.colab Python module.\n",
              " */\n",
              "(function(scope) {\n",
              "function span(text, styleAttributes = {}) {\n",
              "  const element = document.createElement('span');\n",
              "  element.textContent = text;\n",
              "  for (const key of Object.keys(styleAttributes)) {\n",
              "    element.style[key] = styleAttributes[key];\n",
              "  }\n",
              "  return element;\n",
              "}\n",
              "\n",
              "// Max number of bytes which will be uploaded at a time.\n",
              "const MAX_PAYLOAD_SIZE = 100 * 1024;\n",
              "\n",
              "function _uploadFiles(inputId, outputId) {\n",
              "  const steps = uploadFilesStep(inputId, outputId);\n",
              "  const outputElement = document.getElementById(outputId);\n",
              "  // Cache steps on the outputElement to make it available for the next call\n",
              "  // to uploadFilesContinue from Python.\n",
              "  outputElement.steps = steps;\n",
              "\n",
              "  return _uploadFilesContinue(outputId);\n",
              "}\n",
              "\n",
              "// This is roughly an async generator (not supported in the browser yet),\n",
              "// where there are multiple asynchronous steps and the Python side is going\n",
              "// to poll for completion of each step.\n",
              "// This uses a Promise to block the python side on completion of each step,\n",
              "// then passes the result of the previous step as the input to the next step.\n",
              "function _uploadFilesContinue(outputId) {\n",
              "  const outputElement = document.getElementById(outputId);\n",
              "  const steps = outputElement.steps;\n",
              "\n",
              "  const next = steps.next(outputElement.lastPromiseValue);\n",
              "  return Promise.resolve(next.value.promise).then((value) => {\n",
              "    // Cache the last promise value to make it available to the next\n",
              "    // step of the generator.\n",
              "    outputElement.lastPromiseValue = value;\n",
              "    return next.value.response;\n",
              "  });\n",
              "}\n",
              "\n",
              "/**\n",
              " * Generator function which is called between each async step of the upload\n",
              " * process.\n",
              " * @param {string} inputId Element ID of the input file picker element.\n",
              " * @param {string} outputId Element ID of the output display.\n",
              " * @return {!Iterable<!Object>} Iterable of next steps.\n",
              " */\n",
              "function* uploadFilesStep(inputId, outputId) {\n",
              "  const inputElement = document.getElementById(inputId);\n",
              "  inputElement.disabled = false;\n",
              "\n",
              "  const outputElement = document.getElementById(outputId);\n",
              "  outputElement.innerHTML = '';\n",
              "\n",
              "  const pickedPromise = new Promise((resolve) => {\n",
              "    inputElement.addEventListener('change', (e) => {\n",
              "      resolve(e.target.files);\n",
              "    });\n",
              "  });\n",
              "\n",
              "  const cancel = document.createElement('button');\n",
              "  inputElement.parentElement.appendChild(cancel);\n",
              "  cancel.textContent = 'Cancel upload';\n",
              "  const cancelPromise = new Promise((resolve) => {\n",
              "    cancel.onclick = () => {\n",
              "      resolve(null);\n",
              "    };\n",
              "  });\n",
              "\n",
              "  // Wait for the user to pick the files.\n",
              "  const files = yield {\n",
              "    promise: Promise.race([pickedPromise, cancelPromise]),\n",
              "    response: {\n",
              "      action: 'starting',\n",
              "    }\n",
              "  };\n",
              "\n",
              "  cancel.remove();\n",
              "\n",
              "  // Disable the input element since further picks are not allowed.\n",
              "  inputElement.disabled = true;\n",
              "\n",
              "  if (!files) {\n",
              "    return {\n",
              "      response: {\n",
              "        action: 'complete',\n",
              "      }\n",
              "    };\n",
              "  }\n",
              "\n",
              "  for (const file of files) {\n",
              "    const li = document.createElement('li');\n",
              "    li.append(span(file.name, {fontWeight: 'bold'}));\n",
              "    li.append(span(\n",
              "        `(${file.type || 'n/a'}) - ${file.size} bytes, ` +\n",
              "        `last modified: ${\n",
              "            file.lastModifiedDate ? file.lastModifiedDate.toLocaleDateString() :\n",
              "                                    'n/a'} - `));\n",
              "    const percent = span('0% done');\n",
              "    li.appendChild(percent);\n",
              "\n",
              "    outputElement.appendChild(li);\n",
              "\n",
              "    const fileDataPromise = new Promise((resolve) => {\n",
              "      const reader = new FileReader();\n",
              "      reader.onload = (e) => {\n",
              "        resolve(e.target.result);\n",
              "      };\n",
              "      reader.readAsArrayBuffer(file);\n",
              "    });\n",
              "    // Wait for the data to be ready.\n",
              "    let fileData = yield {\n",
              "      promise: fileDataPromise,\n",
              "      response: {\n",
              "        action: 'continue',\n",
              "      }\n",
              "    };\n",
              "\n",
              "    // Use a chunked sending to avoid message size limits. See b/62115660.\n",
              "    let position = 0;\n",
              "    do {\n",
              "      const length = Math.min(fileData.byteLength - position, MAX_PAYLOAD_SIZE);\n",
              "      const chunk = new Uint8Array(fileData, position, length);\n",
              "      position += length;\n",
              "\n",
              "      const base64 = btoa(String.fromCharCode.apply(null, chunk));\n",
              "      yield {\n",
              "        response: {\n",
              "          action: 'append',\n",
              "          file: file.name,\n",
              "          data: base64,\n",
              "        },\n",
              "      };\n",
              "\n",
              "      let percentDone = fileData.byteLength === 0 ?\n",
              "          100 :\n",
              "          Math.round((position / fileData.byteLength) * 100);\n",
              "      percent.textContent = `${percentDone}% done`;\n",
              "\n",
              "    } while (position < fileData.byteLength);\n",
              "  }\n",
              "\n",
              "  // All done.\n",
              "  yield {\n",
              "    response: {\n",
              "      action: 'complete',\n",
              "    }\n",
              "  };\n",
              "}\n",
              "\n",
              "scope.google = scope.google || {};\n",
              "scope.google.colab = scope.google.colab || {};\n",
              "scope.google.colab._files = {\n",
              "  _uploadFiles,\n",
              "  _uploadFilesContinue,\n",
              "};\n",
              "})(self);\n",
              "</script> "
            ]
          },
          "metadata": {}
        },
        {
          "output_type": "stream",
          "name": "stdout",
          "text": [
            "Saving kaggle.json to kaggle.json\n",
            "Downloading rossmann-store-sales.zip to /content\n",
            "  0% 0.00/6.99M [00:00<?, ?B/s]\n",
            "100% 6.99M/6.99M [00:00<00:00, 433MB/s]\n",
            "Archive:  rossmann-store-sales.zip\n",
            "  inflating: rossmann_data/sample_submission.csv  \n",
            "  inflating: rossmann_data/store.csv  \n",
            "  inflating: rossmann_data/test.csv  \n",
            "  inflating: rossmann_data/train.csv  \n"
          ]
        }
      ]
    },
    {
      "cell_type": "code",
      "source": [
        "#Import Libraries\n",
        "\n",
        "import pandas as pd\n",
        "import numpy as np\n",
        "from sklearn.model_selection import train_test_split\n",
        "from xgboost import XGBRegressor\n",
        "import matplotlib.pyplot as plt\n",
        "\n",
        "# Load data\n",
        "train = pd.read_csv(\"rossmann_data/train.csv\", parse_dates=['Date'])\n",
        "store = pd.read_csv(\"rossmann_data/store.csv\")\n",
        "df = train.merge(store, on='Store', how='left')\n",
        "\n",
        "# Filter open stores and positive sales\n",
        "df = df[(df['Open'] == 1) & (df['Sales'] > 0)].copy()"
      ],
      "metadata": {
        "id": "5ww1hH2CNrgi",
        "colab": {
          "base_uri": "https://localhost:8080/"
        },
        "outputId": "8a7fb889-59c1-4d32-962a-80d5bf697877"
      },
      "execution_count": 12,
      "outputs": [
        {
          "output_type": "stream",
          "name": "stderr",
          "text": [
            "<ipython-input-12-424904741d9f>:10: DtypeWarning: Columns (7) have mixed types. Specify dtype option on import or set low_memory=False.\n",
            "  train = pd.read_csv(\"rossmann_data/train.csv\", parse_dates=['Date'])\n"
          ]
        }
      ]
    },
    {
      "cell_type": "code",
      "source": [
        "#4 Feature Engineering\n",
        "\n",
        "def add_features(df):\n",
        "    # Date features\n",
        "    df['Year'] = df['Date'].dt.year\n",
        "    df['WeekOfYear'] = df['Date'].dt.isocalendar().week\n",
        "\n",
        "    # Competition features (with safer NaN handling)\n",
        "    comp_open = (12*(df['Year']-df['CompetitionOpenSinceYear']) +\n",
        "               (df['Date'].dt.month-df['CompetitionOpenSinceMonth']))\n",
        "    df['MonthsSinceCompetition'] = comp_open.clip(lower=0)\n",
        "    df['MonthsSinceCompetition'].fillna(0, inplace=True)  # If no competition\n",
        "\n",
        "    # Promo features (fixed month parsing)\n",
        "    month_map = {'Jan':1, 'Feb':2, 'Mar':3, 'Apr':4, 'May':5, 'Jun':6,\n",
        "                 'Jul':7, 'Aug':8, 'Sep':9, 'Oct':10, 'Nov':11, 'Dec':12}\n",
        "\n",
        "    def is_promo_month(row):\n",
        "        if not isinstance(row['PromoInterval'], str) or row['PromoInterval'] == 'None':\n",
        "            return 0\n",
        "        months = [month_map[m.strip()] for m in row['PromoInterval'].split(',')\n",
        "                 if m.strip() in month_map]\n",
        "        return int(row['Date'].month in months)\n",
        "\n",
        "    df['IsPromoMonth'] = df.apply(is_promo_month, axis=1)\n",
        "\n",
        "    # Lag features (with groupby safety)\n",
        "    df.sort_values(['Store','Date'], inplace=True)\n",
        "    df['PrevWeekSales'] = df.groupby('Store')['Sales'].shift(7)\n",
        "    df['PrevWeekSales'].fillna(0, inplace=True)  # For first weeks\n",
        "\n",
        "    return df\n",
        "\n",
        "df = add_features(df)"
      ],
      "metadata": {
        "colab": {
          "base_uri": "https://localhost:8080/"
        },
        "id": "IBsv7vMCOnmo",
        "outputId": "3eb7cb94-a891-4424-ce54-155605b9ee64"
      },
      "execution_count": 14,
      "outputs": [
        {
          "output_type": "stream",
          "name": "stderr",
          "text": [
            "<ipython-input-14-67c0c75d337b>:12: FutureWarning: A value is trying to be set on a copy of a DataFrame or Series through chained assignment using an inplace method.\n",
            "The behavior will change in pandas 3.0. This inplace method will never work because the intermediate object on which we are setting values always behaves as a copy.\n",
            "\n",
            "For example, when doing 'df[col].method(value, inplace=True)', try using 'df.method({col: value}, inplace=True)' or df[col] = df[col].method(value) instead, to perform the operation inplace on the original object.\n",
            "\n",
            "\n",
            "  df['MonthsSinceCompetition'].fillna(0, inplace=True)  # If no competition\n",
            "<ipython-input-14-67c0c75d337b>:30: FutureWarning: A value is trying to be set on a copy of a DataFrame or Series through chained assignment using an inplace method.\n",
            "The behavior will change in pandas 3.0. This inplace method will never work because the intermediate object on which we are setting values always behaves as a copy.\n",
            "\n",
            "For example, when doing 'df[col].method(value, inplace=True)', try using 'df.method({col: value}, inplace=True)' or df[col] = df[col].method(value) instead, to perform the operation inplace on the original object.\n",
            "\n",
            "\n",
            "  df['PrevWeekSales'].fillna(0, inplace=True)  # For first weeks\n"
          ]
        }
      ]
    },
    {
      "cell_type": "code",
      "source": [
        "#3 Modeling & Evaluation\n",
        "\n",
        "# Train/test split\n",
        "X = df[['Store', 'DayOfWeek', 'Promo', 'MonthsSinceCompetition',\n",
        "       'IsPromoMonth', 'PrevWeekSales']]\n",
        "y = np.log1p(df['Sales'])  # Log transform for better performance\n",
        "\n",
        "X_train, X_val, y_train, y_val = train_test_split(X, y, test_size=0.2, random_state=42)\n",
        "\n",
        "# Train XGBoost\n",
        "model = XGBRegressor(n_estimators=1000, learning_rate=0.05, early_stopping_rounds=50)\n",
        "model.fit(X_train, y_train, eval_set=[(X_val, y_val)], verbose=False)\n",
        "\n",
        "# Evaluate\n",
        "predictions = np.expm1(model.predict(X_val))  # Convert back from log scale\n",
        "mape = 100 * np.mean(np.abs(predictions - np.expm1(y_val))/np.expm1(y_val))\n",
        "\n",
        "print(f\"🔥 Model Performance: {mape:.1f}% Mean Absolute Percentage Error\")\n",
        "\n",
        "# Feature Importance\n",
        "plt.figure(figsize=(10,5))\n",
        "sorted_idx = model.feature_importances_.argsort()\n",
        "plt.barh(X.columns[sorted_idx], model.feature_importances_[sorted_idx])\n",
        "plt.title(\"XGBoost Feature Importance\")\n",
        "plt.show()"
      ],
      "metadata": {
        "id": "eLUw17h1XXQF",
        "colab": {
          "base_uri": "https://localhost:8080/",
          "height": 485
        },
        "outputId": "04725aac-d399-4f90-c701-b84b6e12ad8f"
      },
      "execution_count": 15,
      "outputs": [
        {
          "output_type": "stream",
          "name": "stdout",
          "text": [
            "🔥 Model Performance: 17.0% Mean Absolute Percentage Error\n"
          ]
        },
        {
          "output_type": "display_data",
          "data": {
            "text/plain": [
              "<Figure size 1000x500 with 1 Axes>"
            ],
            "image/png": "[encoded data removed]"
          },
          "metadata": {}
        }
      ]
    }
  ]
}